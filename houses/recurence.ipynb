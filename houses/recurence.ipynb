{
 "cells": [
  {
   "cell_type": "markdown",
   "id": "edf7a995",
   "metadata": {},
   "source": [
    "# Houses task solver"
   ]
  },
  {
   "cell_type": "code",
   "execution_count": 12,
   "id": "ff5ff89f",
   "metadata": {},
   "outputs": [],
   "source": [
    "import numpy as np\n",
    "import copy\n",
    "import re"
   ]
  },
  {
   "cell_type": "code",
   "execution_count": 66,
   "id": "c450d86d",
   "metadata": {},
   "outputs": [],
   "source": [
    "def load_task(filename):\n",
    "    with open('task1.txt', 'r') as f:\n",
    "        contents =  f.readlines()\n",
    "        f.close()\n",
    "    \n",
    "    contents = [re.findall('[0-9]+', contents[i])[0] for i in range(len(contents))]\n",
    "    row = []\n",
    "    plane = []\n",
    "    col = [int(char) for char in contents[0]]\n",
    "    for i in range(1, len(contents)):\n",
    "        row.append(int(contents[i][0]))\n",
    "        plane.append([int(contents[i][j]) for j in range(1, len(contents[i]))])\n",
    "    plane = np.array(plane)\n",
    "    \n",
    "    return row, col, plane\n",
    "\n",
    "def print_task(row, col, plane):\n",
    "    text = '  ' + ' '.join(str(x) for x in col) + '\\n  ' + '_' * (2 * len(col) - 1) + '\\n'\n",
    "    for i in range(len(row)):\n",
    "        text += str(row[i]) + '|' + ' '.join(str(x) for x  in plane[i]) + '\\n'\n",
    "    print(text)"
   ]
  },
  {
   "cell_type": "code",
   "execution_count": 81,
   "id": "2b9daac9",
   "metadata": {},
   "outputs": [
    {
     "name": "stdout",
     "output_type": "stream",
     "text": [
      "  1 1 2 1 1 1\n",
      "  ___________\n",
      "1|0 1 0 0 0 0\n",
      "0|0 0 0 0 0 0\n",
      "2|0 0 0 0 0 0\n",
      "1|0 0 1 0 1 0\n",
      "2|1 0 0 0 1 0\n",
      "1|0 0 1 0 0 1\n",
      "\n"
     ]
    }
   ],
   "source": [
    "row, col, game_plane = load_task('task1.txt')\n",
    "print_task(row, col, game_plane)"
   ]
  },
  {
   "cell_type": "code",
   "execution_count": 2,
   "id": "131570e3",
   "metadata": {},
   "outputs": [],
   "source": [
    "row = [1, 0, 2, 1, 2, 1]\n",
    "col = [1, 1, 2, 1, 1, 1]\n",
    "\n",
    "\n",
    "game_plane = [[0, 1, 0, 0, 0, 0],\n",
    "              [0, 0, 0, 0, 0, 0],\n",
    "              [0, 0, 0, 0, 0, 0],\n",
    "              [0, 0, 1, 0, 1, 0],\n",
    "              [1, 0, 0, 0, 1, 0],\n",
    "              [0, 0, 1, 0, 0, 1]]\n",
    "game_plane = np.array(game_plane)"
   ]
  },
  {
   "cell_type": "code",
   "execution_count": 78,
   "id": "25dfa824",
   "metadata": {},
   "outputs": [],
   "source": [
    "row = [5, 1, 4, 1, 4, 2, 4, 2, 1, 4]\n",
    "col = [3, 2, 0, 5, 0, 5, 0, 2, 2, 3, 0, 2, 2, 2]\n",
    "\n",
    "game_plane = [[0, 0, 0, 0, 1, 0, 1, 1, 0, 0, 1, 0, 0, 1],\n",
    "              [1, 0, 0, 0, 0, 0, 0, 0, 0, 0, 0, 0, 0, 0],\n",
    "              [0, 0, 0, 0, 1, 0, 0, 0, 1, 0, 0, 1, 0, 0],\n",
    "              [0, 1, 0, 0, 1, 0, 0, 0, 0, 0, 0, 0, 0, 0],\n",
    "              [0, 0, 0, 0, 1, 0, 0, 0, 0, 0, 0, 0, 0, 0],\n",
    "              [1, 0, 1, 0, 0, 1, 0, 0, 1, 1, 0, 1, 1, 0],\n",
    "              [1, 0, 0, 0, 0, 0, 0, 1, 0, 0, 0, 0, 1, 0],\n",
    "              [0, 0, 0, 0, 1, 0, 0, 0, 0, 0, 0, 0, 0, 0],\n",
    "              [0, 0, 0, 0, 0, 0, 0, 0, 1, 0, 0, 0, 1, 0],\n",
    "              [0, 1, 1, 0, 0, 0, 1, 0, 0, 0, 0, 0, 0, 0]]\n",
    "game_plane = np.array(game_plane)"
   ]
  },
  {
   "cell_type": "code",
   "execution_count": 70,
   "id": "b33e35de",
   "metadata": {},
   "outputs": [
    {
     "data": {
      "text/plain": [
       "[[-1, -1], [-1, 0], [-1, 1], [0, -1], [0, 1], [1, -1], [1, 0], [1, 1]]"
      ]
     },
     "execution_count": 70,
     "metadata": {},
     "output_type": "execute_result"
    }
   ],
   "source": [
    "check_idxs = [[i, j] for i in range(-1, 2) for j in range(-1, 2) if i != 0 or j != 0]\n",
    "check_idxs"
   ]
  },
  {
   "cell_type": "code",
   "execution_count": 71,
   "id": "69d9a0cd",
   "metadata": {},
   "outputs": [],
   "source": [
    "insert_idxs = [[-1, 0], [1, 0], [0, -1], [0, 1]]"
   ]
  },
  {
   "cell_type": "code",
   "execution_count": 82,
   "id": "8bf96eb1",
   "metadata": {},
   "outputs": [
    {
     "data": {
      "text/plain": [
       "[[0, 1], [3, 2], [3, 4], [4, 0], [4, 4], [5, 2], [5, 5]]"
      ]
     },
     "execution_count": 82,
     "metadata": {},
     "output_type": "execute_result"
    }
   ],
   "source": [
    "x, y = np.where(game_plane == 1)\n",
    "houses = [[x[i], y[i]] for i in range(len(x))]\n",
    "houses"
   ]
  },
  {
   "cell_type": "code",
   "execution_count": 76,
   "id": "2502747f",
   "metadata": {},
   "outputs": [],
   "source": [
    "def in_plane(i, j, plane):\n",
    "    if i < 0 or i >= len(plane) or j < 0 or j >= len(plane[0]):\n",
    "        return False\n",
    "    return True\n",
    "\n",
    "def check_square(i, j, plane):\n",
    "    if plane[i][j] > 0:\n",
    "        return False\n",
    "    if np.sum(plane[i,:] > 1) < row[i] and np.sum(plane[:,j] > 1) < col[j]:\n",
    "        for idx in check_idxs:\n",
    "            x = idx[0] + i\n",
    "            y = idx[1] + j\n",
    "            if in_plane(x, y, plane):\n",
    "                if plane[x][y] > 1:\n",
    "                    return False\n",
    "        return True\n",
    "    return False"
   ]
  },
  {
   "cell_type": "code",
   "execution_count": 74,
   "id": "42916251",
   "metadata": {},
   "outputs": [],
   "source": [
    "def solve(plane, h):\n",
    "    if h == len(houses):\n",
    "        print_task(row, col, plane)\n",
    "        return\n",
    "    inserted = False\n",
    "    for idx in insert_idxs:\n",
    "        x = idx[0] + houses[h][0]\n",
    "        y = idx[1] + houses[h][1]\n",
    "        if in_plane(x, y, plane):\n",
    "            if check_square(x, y, plane):\n",
    "                inserted = True\n",
    "                plane_copy = copy.deepcopy(plane)\n",
    "                plane_copy[x][y] = 2\n",
    "                solve(plane_copy, h+1)\n",
    "                \n",
    "    if not inserted:\n",
    "        return\n",
    "        "
   ]
  },
  {
   "cell_type": "code",
   "execution_count": 83,
   "id": "fb398c69",
   "metadata": {},
   "outputs": [
    {
     "name": "stdout",
     "output_type": "stream",
     "text": [
      "  1 1 2 1 1 1\n",
      "  ___________\n",
      "1|0 1 2 0 0 0\n",
      "0|0 0 0 0 0 0\n",
      "2|0 0 2 0 2 0\n",
      "1|2 0 1 0 1 0\n",
      "2|1 0 0 2 1 2\n",
      "1|0 2 1 0 0 1\n",
      "\n"
     ]
    }
   ],
   "source": [
    "solve(game_plane, 0)"
   ]
  }
 ],
 "metadata": {
  "kernelspec": {
   "display_name": "Python 3 (ipykernel)",
   "language": "python",
   "name": "python3"
  },
  "language_info": {
   "codemirror_mode": {
    "name": "ipython",
    "version": 3
   },
   "file_extension": ".py",
   "mimetype": "text/x-python",
   "name": "python",
   "nbconvert_exporter": "python",
   "pygments_lexer": "ipython3",
   "version": "3.8.13"
  }
 },
 "nbformat": 4,
 "nbformat_minor": 5
}
