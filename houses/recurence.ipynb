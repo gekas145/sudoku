{
 "cells": [
  {
   "cell_type": "markdown",
   "id": "edf7a995",
   "metadata": {},
   "source": [
    "# Houses task solver"
   ]
  },
  {
   "cell_type": "code",
   "execution_count": 85,
   "id": "ff5ff89f",
   "metadata": {},
   "outputs": [],
   "source": [
    "import numpy as np\n",
    "import copy\n",
    "import re\n",
    "from requests import get"
   ]
  },
  {
   "cell_type": "code",
   "execution_count": 97,
   "id": "41fd6baf",
   "metadata": {},
   "outputs": [],
   "source": [
    "def load_task(file_location):\n",
    "    contents = get(file_location).text\n",
    "    contents = re.findall('[0-9]+', contents)\n",
    "    row = []\n",
    "    plane = []\n",
    "    col = [int(char) for char in contents[0]]\n",
    "    for i in range(1, len(contents)):\n",
    "        row.append(int(contents[i][0]))\n",
    "        plane.append([int(contents[i][j]) for j in range(1, len(contents[i]))])\n",
    "    plane = np.array(plane)\n",
    "    \n",
    "    return row, col, plane\n",
    "\n",
    "def print_task(row, col, plane):\n",
    "    text = '  ' + ' '.join(str(x) for x in col) + '\\n  ' + '_' * (2 * len(col) - 1) + '\\n'\n",
    "    for i in range(len(row)):\n",
    "        text += str(row[i]) + '|' + ' '.join(str(x) for x  in plane[i]) + '\\n'\n",
    "    print(text)"
   ]
  },
  {
   "cell_type": "code",
   "execution_count": 99,
   "id": "a6aa4d73",
   "metadata": {},
   "outputs": [
    {
     "name": "stdout",
     "output_type": "stream",
     "text": [
      "  3 2 0 5 0 5 0 2 2 3 0 2 2 2\n",
      "  ___________________________\n",
      "5|0 0 0 0 1 0 1 1 0 0 1 0 0 1\n",
      "1|1 0 0 0 0 0 0 0 0 0 0 0 0 0\n",
      "4|0 0 0 0 1 0 0 0 1 0 0 1 0 0\n",
      "1|0 1 0 0 1 0 0 0 0 0 0 0 0 0\n",
      "4|0 0 0 0 1 0 0 0 0 0 0 0 0 0\n",
      "2|1 0 1 0 0 1 0 0 1 1 0 1 1 0\n",
      "4|1 0 0 0 0 0 0 1 0 0 0 0 1 0\n",
      "2|0 0 0 0 1 0 0 0 0 0 0 0 0 0\n",
      "1|0 0 0 0 0 0 0 0 1 0 0 0 1 0\n",
      "4|0 1 1 0 0 0 1 0 0 0 0 0 0 0\n",
      "\n"
     ]
    }
   ],
   "source": [
    "row, col, game_plane = load_task('https://raw.githubusercontent.com/gekas145/sudoku/main/houses/task2.txt')\n",
    "print_task(row, col, game_plane)"
   ]
  }
 ],
 "metadata": {
  "kernelspec": {
   "display_name": "Python 3 (ipykernel)",
   "language": "python",
   "name": "python3"
  },
  "language_info": {
   "codemirror_mode": {
    "name": "ipython",
    "version": 3
   },
   "file_extension": ".py",
   "mimetype": "text/x-python",
   "name": "python",
   "nbconvert_exporter": "python",
   "pygments_lexer": "ipython3",
   "version": "3.8.13"
  }
 },
 "nbformat": 4,
 "nbformat_minor": 5
}
